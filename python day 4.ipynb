{
 "cells": [
  {
   "cell_type": "code",
   "execution_count": null,
   "id": "d1556f45",
   "metadata": {},
   "outputs": [],
   "source": [
    "1 = [1,2,3,]"
   ]
  },
  {
   "cell_type": "markdown",
   "id": "837ed721",
   "metadata": {},
   "source": [
    "### Everyone should come with property of list that is not discussed"
   ]
  },
  {
   "cell_type": "markdown",
   "id": "19719589",
   "metadata": {},
   "source": [
    "# Day 4"
   ]
  },
  {
   "cell_type": "markdown",
   "id": "16ffc169",
   "metadata": {},
   "source": [
    "### Tuple "
   ]
  },
  {
   "cell_type": "code",
   "execution_count": null,
   "id": "8285f639",
   "metadata": {},
   "outputs": [],
   "source": [
    "##### 1) Container object\n",
    "##### 2) Heterogenious->allow multiple data type\n",
    "##### 3) Can have duplicate\n",
    "##### 4) Immutable\n",
    "##### 5) Slement are seperate by comma,"
   ]
  },
  {
   "cell_type": "code",
   "execution_count": 1,
   "id": "073d0a5f",
   "metadata": {},
   "outputs": [
    {
     "data": {
      "text/plain": [
       "(1, 6, 2, 3, 8, 3, 'hi')"
      ]
     },
     "execution_count": 1,
     "metadata": {},
     "output_type": "execute_result"
    }
   ],
   "source": [
    "sample_tuple=(1,6,2,3,8,3,\"hi\")\n",
    "sample_tuple"
   ]
  },
  {
   "cell_type": "code",
   "execution_count": 2,
   "id": "77600c18",
   "metadata": {},
   "outputs": [
    {
     "data": {
      "text/plain": [
       "tuple"
      ]
     },
     "execution_count": 2,
     "metadata": {},
     "output_type": "execute_result"
    }
   ],
   "source": [
    "type (sample_tuple)"
   ]
  },
  {
   "cell_type": "code",
   "execution_count": 3,
   "id": "d191b7d9",
   "metadata": {},
   "outputs": [
    {
     "data": {
      "text/plain": [
       "(1, 6, 2, 3, 8, 3, 'hi')"
      ]
     },
     "execution_count": 3,
     "metadata": {},
     "output_type": "execute_result"
    }
   ],
   "source": [
    "sample_tuple2=1,6,2,3,8,3,\"hi\"\n",
    "sample_tuple2"
   ]
  },
  {
   "cell_type": "code",
   "execution_count": 4,
   "id": "321d487b",
   "metadata": {},
   "outputs": [
    {
     "data": {
      "text/plain": [
       "tuple"
      ]
     },
     "execution_count": 4,
     "metadata": {},
     "output_type": "execute_result"
    }
   ],
   "source": [
    "type(sample_tuple)"
   ]
  },
  {
   "cell_type": "code",
   "execution_count": 9,
   "id": "ffda543e",
   "metadata": {},
   "outputs": [
    {
     "name": "stdout",
     "output_type": "stream",
     "text": [
      "(1, 6, 2, 3, 8, 3, 'hi')\n",
      "(1, 6, 2, 3, 8, 3, 'hi')\n"
     ]
    }
   ],
   "source": [
    "print(sample_tuple)\n",
    "print(sample_tuple2)"
   ]
  },
  {
   "cell_type": "code",
   "execution_count": 10,
   "id": "3d869736",
   "metadata": {},
   "outputs": [
    {
     "ename": "AttributeError",
     "evalue": "'tuple' object has no attribute 'sort'",
     "output_type": "error",
     "traceback": [
      "\u001b[1;31m---------------------------------------------------------------------------\u001b[0m",
      "\u001b[1;31mAttributeError\u001b[0m                            Traceback (most recent call last)",
      "Cell \u001b[1;32mIn[10], line 2\u001b[0m\n\u001b[0;32m      1\u001b[0m sample_tuple\u001b[38;5;241m=\u001b[39m(\u001b[38;5;241m1\u001b[39m,\u001b[38;5;241m6\u001b[39m,\u001b[38;5;241m2\u001b[39m,\u001b[38;5;241m3\u001b[39m,\u001b[38;5;241m8\u001b[39m,\u001b[38;5;241m3\u001b[39m,\u001b[38;5;124m\"\u001b[39m\u001b[38;5;124mhi\u001b[39m\u001b[38;5;124m\"\u001b[39m)\n\u001b[1;32m----> 2\u001b[0m \u001b[43msample_tuple\u001b[49m\u001b[38;5;241;43m.\u001b[39;49m\u001b[43msort\u001b[49m()\n",
      "\u001b[1;31mAttributeError\u001b[0m: 'tuple' object has no attribute 'sort'"
     ]
    }
   ],
   "source": [
    "sample_tuple=(1,6,2,3,8,3,\"hi\")\n",
    "sample_tuple.sort()"
   ]
  },
  {
   "cell_type": "code",
   "execution_count": 14,
   "id": "e5f84329",
   "metadata": {},
   "outputs": [
    {
     "ename": "TypeError",
     "evalue": "'<' not supported between instances of 'str' and 'int'",
     "output_type": "error",
     "traceback": [
      "\u001b[1;31m---------------------------------------------------------------------------\u001b[0m",
      "\u001b[1;31mTypeError\u001b[0m                                 Traceback (most recent call last)",
      "Cell \u001b[1;32mIn[14], line 1\u001b[0m\n\u001b[1;32m----> 1\u001b[0m \u001b[38;5;28;43msorted\u001b[39;49m\u001b[43m(\u001b[49m\u001b[43msample_tuple2\u001b[49m\u001b[43m)\u001b[49m\n",
      "\u001b[1;31mTypeError\u001b[0m: '<' not supported between instances of 'str' and 'int'"
     ]
    }
   ],
   "source": [
    "sorted(sample_tuple2)"
   ]
  },
  {
   "cell_type": "code",
   "execution_count": 16,
   "id": "f78ca96f",
   "metadata": {},
   "outputs": [
    {
     "ename": "TypeError",
     "evalue": "'<' not supported between instances of 'int' and 'str'",
     "output_type": "error",
     "traceback": [
      "\u001b[1;31m---------------------------------------------------------------------------\u001b[0m",
      "\u001b[1;31mTypeError\u001b[0m                                 Traceback (most recent call last)",
      "Cell \u001b[1;32mIn[16], line 1\u001b[0m\n\u001b[1;32m----> 1\u001b[0m \u001b[38;5;28;43msorted\u001b[39;49m\u001b[43m(\u001b[49m\u001b[43msample_tuple\u001b[49m\u001b[43m,\u001b[49m\u001b[43mreverse\u001b[49m\u001b[38;5;241;43m=\u001b[39;49m\u001b[38;5;28;43;01mTrue\u001b[39;49;00m\u001b[43m)\u001b[49m\n",
      "\u001b[1;31mTypeError\u001b[0m: '<' not supported between instances of 'int' and 'str'"
     ]
    }
   ],
   "source": [
    "sorted(sample_tuple,reverse=True)"
   ]
  },
  {
   "cell_type": "code",
   "execution_count": 22,
   "id": "1ef41ae2",
   "metadata": {},
   "outputs": [
    {
     "data": {
      "text/plain": [
       "(1,\n",
       " 6,\n",
       " 2,\n",
       " 3,\n",
       " 8,\n",
       " 3,\n",
       " 'hi',\n",
       " 1,\n",
       " 6,\n",
       " 2,\n",
       " 3,\n",
       " 8,\n",
       " 3,\n",
       " 'hi',\n",
       " 1,\n",
       " 6,\n",
       " 2,\n",
       " 3,\n",
       " 8,\n",
       " 3,\n",
       " 'hi',\n",
       " 1,\n",
       " 6,\n",
       " 2,\n",
       " 3,\n",
       " 8,\n",
       " 3,\n",
       " 'hi')"
      ]
     },
     "execution_count": 22,
     "metadata": {},
     "output_type": "execute_result"
    }
   ],
   "source": [
    "n=4\n",
    "rep_tuple=sample_tuple*n\n",
    "rep_tuple"
   ]
  },
  {
   "cell_type": "code",
   "execution_count": 23,
   "id": "fa9b57d4",
   "metadata": {},
   "outputs": [
    {
     "data": {
      "text/plain": [
       "(1, 2, 3, 4, 5, 7, 8, 1)"
      ]
     },
     "execution_count": 23,
     "metadata": {},
     "output_type": "execute_result"
    }
   ],
   "source": [
    "sample_tup1=(1,2,3,4)\n",
    "sample_tup2=(5,7,8,1)\n",
    "sam=sample_tup1+sample_tup2\n",
    "sam"
   ]
  },
  {
   "cell_type": "code",
   "execution_count": 24,
   "id": "692cd8f2",
   "metadata": {},
   "outputs": [
    {
     "data": {
      "text/plain": [
       "(1, 2, 3, 4, 5, 7, 8, 1, 10, 15)"
      ]
     },
     "execution_count": 24,
     "metadata": {},
     "output_type": "execute_result"
    }
   ],
   "source": [
    "sample_tup1=(1,2,3,4)\n",
    "sample_tup2=(5,7,8,1,10,15)\n",
    "sam=sample_tup1+sample_tup2\n",
    "sam"
   ]
  },
  {
   "cell_type": "code",
   "execution_count": 25,
   "id": "2207b98f",
   "metadata": {},
   "outputs": [
    {
     "name": "stdout",
     "output_type": "stream",
     "text": [
      "True\n"
     ]
    }
   ],
   "source": [
    "print(2 in sample_tup1)"
   ]
  },
  {
   "cell_type": "code",
   "execution_count": 26,
   "id": "8c0c7a66",
   "metadata": {},
   "outputs": [
    {
     "name": "stdout",
     "output_type": "stream",
     "text": [
      "False\n"
     ]
    }
   ],
   "source": [
    "print(10 in sample_tup1)"
   ]
  },
  {
   "cell_type": "code",
   "execution_count": 28,
   "id": "ef1cca71",
   "metadata": {},
   "outputs": [
    {
     "name": "stdout",
     "output_type": "stream",
     "text": [
      "True\n"
     ]
    }
   ],
   "source": [
    "print(10 not in sample_tup1)"
   ]
  },
  {
   "cell_type": "code",
   "execution_count": 36,
   "id": "22d59a1c",
   "metadata": {},
   "outputs": [
    {
     "name": "stdout",
     "output_type": "stream",
     "text": [
      "Python\n",
      "R\n",
      "Excel\n"
     ]
    }
   ],
   "source": [
    "Tools=[\"Python\",\"R\",\"Excel\"]\n",
    "for every_tool in Tools:\n",
    "    print(every_tool)"
   ]
  },
  {
   "cell_type": "code",
   "execution_count": 37,
   "id": "279d35ac",
   "metadata": {},
   "outputs": [
    {
     "data": {
      "text/plain": [
       "3"
      ]
     },
     "execution_count": 37,
     "metadata": {},
     "output_type": "execute_result"
    }
   ],
   "source": [
    "### How many elements in Tools\n",
    "len(Tools)"
   ]
  },
  {
   "cell_type": "code",
   "execution_count": 38,
   "id": "dfb2c8d1",
   "metadata": {},
   "outputs": [
    {
     "name": "stdout",
     "output_type": "stream",
     "text": [
      "Python\n",
      "R\n",
      "Excel\n"
     ]
    }
   ],
   "source": [
    "Tools=[\"Python\",\"R\",\"Excel\"]\n",
    "for every_tool in Tools:\n",
    "    print(every_tool)"
   ]
  },
  {
   "cell_type": "code",
   "execution_count": 39,
   "id": "a68fc093",
   "metadata": {},
   "outputs": [
    {
     "data": {
      "text/plain": [
       "5"
      ]
     },
     "execution_count": 39,
     "metadata": {},
     "output_type": "execute_result"
    }
   ],
   "source": [
    "len(every_tool)"
   ]
  },
  {
   "cell_type": "code",
   "execution_count": 46,
   "id": "0ee4f897",
   "metadata": {},
   "outputs": [
    {
     "data": {
      "text/plain": [
       "789"
      ]
     },
     "execution_count": 46,
     "metadata": {},
     "output_type": "execute_result"
    }
   ],
   "source": [
    "Prices=(100,200,213,132,167,789,635,456)\n",
    "max(Prices)"
   ]
  },
  {
   "cell_type": "code",
   "execution_count": 43,
   "id": "b891e60f",
   "metadata": {},
   "outputs": [
    {
     "data": {
      "text/plain": [
       "100"
      ]
     },
     "execution_count": 43,
     "metadata": {},
     "output_type": "execute_result"
    }
   ],
   "source": [
    "min (Prices)"
   ]
  },
  {
   "cell_type": "code",
   "execution_count": 45,
   "id": "923e3839",
   "metadata": {},
   "outputs": [
    {
     "ename": "TypeError",
     "evalue": "'>' not supported between instances of 'str' and 'int'",
     "output_type": "error",
     "traceback": [
      "\u001b[1;31m---------------------------------------------------------------------------\u001b[0m",
      "\u001b[1;31mTypeError\u001b[0m                                 Traceback (most recent call last)",
      "Cell \u001b[1;32mIn[45], line 2\u001b[0m\n\u001b[0;32m      1\u001b[0m Prices\u001b[38;5;241m=\u001b[39m(\u001b[38;5;241m100\u001b[39m,\u001b[38;5;241m200\u001b[39m,\u001b[38;5;241m213\u001b[39m,\u001b[38;5;241m132\u001b[39m,\u001b[38;5;241m167\u001b[39m,\u001b[38;5;241m789\u001b[39m,\u001b[38;5;241m635\u001b[39m,\u001b[38;5;241m456\u001b[39m,\u001b[38;5;124m\"\u001b[39m\u001b[38;5;124mhii\u001b[39m\u001b[38;5;124m\"\u001b[39m)\n\u001b[1;32m----> 2\u001b[0m \u001b[38;5;28;43mmax\u001b[39;49m\u001b[43m(\u001b[49m\u001b[43mPrices\u001b[49m\u001b[43m)\u001b[49m\n",
      "\u001b[1;31mTypeError\u001b[0m: '>' not supported between instances of 'str' and 'int'"
     ]
    }
   ],
   "source": [
    "Prices=(100,200,213,132,167,789,635,456,\"hii\")\n",
    "max(Prices)"
   ]
  },
  {
   "cell_type": "code",
   "execution_count": 47,
   "id": "2574d6f3",
   "metadata": {},
   "outputs": [
    {
     "ename": "AttributeError",
     "evalue": "'tuple' object has no attribute 'append'",
     "output_type": "error",
     "traceback": [
      "\u001b[1;31m---------------------------------------------------------------------------\u001b[0m",
      "\u001b[1;31mAttributeError\u001b[0m                            Traceback (most recent call last)",
      "Cell \u001b[1;32mIn[47], line 1\u001b[0m\n\u001b[1;32m----> 1\u001b[0m \u001b[43mPrices\u001b[49m\u001b[38;5;241;43m.\u001b[39;49m\u001b[43mappend\u001b[49m(\u001b[38;5;241m50\u001b[39m)\n",
      "\u001b[1;31mAttributeError\u001b[0m: 'tuple' object has no attribute 'append'"
     ]
    }
   ],
   "source": [
    "Prices.append(50)"
   ]
  },
  {
   "cell_type": "code",
   "execution_count": 48,
   "id": "6331794c",
   "metadata": {},
   "outputs": [
    {
     "data": {
      "text/plain": [
       "(100, 200, 213, 132, 167, 789, 635, 456)"
      ]
     },
     "execution_count": 48,
     "metadata": {},
     "output_type": "execute_result"
    }
   ],
   "source": [
    "Prices"
   ]
  },
  {
   "cell_type": "code",
   "execution_count": 49,
   "id": "76ba46d3",
   "metadata": {},
   "outputs": [
    {
     "ename": "AttributeError",
     "evalue": "'int' object has no attribute 'append'",
     "output_type": "error",
     "traceback": [
      "\u001b[1;31m---------------------------------------------------------------------------\u001b[0m",
      "\u001b[1;31mAttributeError\u001b[0m                            Traceback (most recent call last)",
      "Cell \u001b[1;32mIn[49], line 1\u001b[0m\n\u001b[1;32m----> 1\u001b[0m \u001b[43mPrices\u001b[49m\u001b[43m[\u001b[49m\u001b[38;5;241;43m2\u001b[39;49m\u001b[43m]\u001b[49m\u001b[38;5;241;43m.\u001b[39;49m\u001b[43mappend\u001b[49m(\u001b[38;5;241m50\u001b[39m)\n",
      "\u001b[1;31mAttributeError\u001b[0m: 'int' object has no attribute 'append'"
     ]
    }
   ],
   "source": [
    "Prices[2].append(50)"
   ]
  },
  {
   "cell_type": "code",
   "execution_count": 51,
   "id": "f1812eed",
   "metadata": {},
   "outputs": [
    {
     "ename": "NameError",
     "evalue": "name 'prices' is not defined",
     "output_type": "error",
     "traceback": [
      "\u001b[1;31m---------------------------------------------------------------------------\u001b[0m",
      "\u001b[1;31mNameError\u001b[0m                                 Traceback (most recent call last)",
      "Cell \u001b[1;32mIn[51], line 2\u001b[0m\n\u001b[0;32m      1\u001b[0m Prices\u001b[38;5;241m=\u001b[39m(\u001b[38;5;241m100\u001b[39m, \u001b[38;5;241m200\u001b[39m, \u001b[38;5;241m213\u001b[39m, \u001b[38;5;241m132\u001b[39m, \u001b[38;5;241m167\u001b[39m, \u001b[38;5;241m789\u001b[39m, \u001b[38;5;241m635\u001b[39m, \u001b[38;5;241m456\u001b[39m,[\u001b[38;5;241m1\u001b[39m,\u001b[38;5;241m2\u001b[39m,\u001b[38;5;241m3\u001b[39m])\n\u001b[1;32m----> 2\u001b[0m \u001b[43mprices\u001b[49m[\u001b[38;5;241m6\u001b[39m]\u001b[38;5;241m.\u001b[39mappend(\u001b[38;5;241m50\u001b[39m)\n",
      "\u001b[1;31mNameError\u001b[0m: name 'prices' is not defined"
     ]
    }
   ],
   "source": [
    "Prices=(100, 200, 213, 132, 167, 789, 635, 456,[1,2,3])\n",
    "prices[6].append(50)"
   ]
  },
  {
   "cell_type": "code",
   "execution_count": 52,
   "id": "e4c5a533",
   "metadata": {},
   "outputs": [
    {
     "data": {
      "text/plain": [
       "(100, 200, 213, 132, 167, 789, 635, 456, [1, 2, 3])"
      ]
     },
     "execution_count": 52,
     "metadata": {},
     "output_type": "execute_result"
    }
   ],
   "source": [
    "Prices"
   ]
  },
  {
   "cell_type": "code",
   "execution_count": 53,
   "id": "647e314d",
   "metadata": {},
   "outputs": [
    {
     "data": {
      "text/plain": [
       "(100, 200, 213)"
      ]
     },
     "execution_count": 53,
     "metadata": {},
     "output_type": "execute_result"
    }
   ],
   "source": [
    "Prices[0:3]"
   ]
  },
  {
   "cell_type": "code",
   "execution_count": 54,
   "id": "0bfbaf6d",
   "metadata": {},
   "outputs": [
    {
     "data": {
      "text/plain": [
       "(213, 132, 167, 789)"
      ]
     },
     "execution_count": 54,
     "metadata": {},
     "output_type": "execute_result"
    }
   ],
   "source": [
    "Prices[2:6]"
   ]
  },
  {
   "cell_type": "code",
   "execution_count": 55,
   "id": "d63e81bf",
   "metadata": {},
   "outputs": [
    {
     "data": {
      "text/plain": [
       "(1, 2, 3, 4, 5, 6, 7, 8, 9, 10)"
      ]
     },
     "execution_count": 55,
     "metadata": {},
     "output_type": "execute_result"
    }
   ],
   "source": [
    "tuple(range(1,11)) # "
   ]
  },
  {
   "cell_type": "code",
   "execution_count": 56,
   "id": "ccc7e931",
   "metadata": {},
   "outputs": [],
   "source": [
    "x = (\"apple\", \"banana\", \"cherry\") # \n",
    "y = list(x)\n",
    "y[1] = \"kiwi\"\n",
    "x = tuple"
   ]
  },
  {
   "cell_type": "markdown",
   "id": "522d22d0",
   "metadata": {},
   "source": [
    "### Dictionary"
   ]
  },
  {
   "cell_type": "markdown",
   "id": "8f0c3578",
   "metadata": {},
   "source": [
    "#### 1) Key-value pair\n",
    "#### 2){}\n",
    "#### 3) Indexing- Square bracket\n",
    "#### 4) Mutable"
   ]
  },
  {
   "cell_type": "code",
   "execution_count": 59,
   "id": "9c44dd9b",
   "metadata": {},
   "outputs": [],
   "source": [
    "dict={'name':\"arun\",'HOBBIES':[\"Painting\",\"singing\",\"cooking\"],1:23}"
   ]
  },
  {
   "cell_type": "code",
   "execution_count": 60,
   "id": "0bd68b8d",
   "metadata": {},
   "outputs": [
    {
     "data": {
      "text/plain": [
       "{'name': 'arun', 'HOBBIES': ['Painting', 'singing', 'cooking'], 1: 23}"
      ]
     },
     "execution_count": 60,
     "metadata": {},
     "output_type": "execute_result"
    }
   ],
   "source": [
    "dict_1"
   ]
  },
  {
   "cell_type": "code",
   "execution_count": 61,
   "id": "5ea14efc",
   "metadata": {},
   "outputs": [
    {
     "ename": "NameError",
     "evalue": "name 'keys' is not defined",
     "output_type": "error",
     "traceback": [
      "\u001b[1;31m---------------------------------------------------------------------------\u001b[0m",
      "\u001b[1;31mNameError\u001b[0m                                 Traceback (most recent call last)",
      "Cell \u001b[1;32mIn[61], line 1\u001b[0m\n\u001b[1;32m----> 1\u001b[0m \u001b[38;5;28mdict\u001b[39m[\u001b[43mkeys\u001b[49m]\n",
      "\u001b[1;31mNameError\u001b[0m: name 'keys' is not defined"
     ]
    }
   ],
   "source": [
    "dict_1[keys]"
   ]
  },
  {
   "cell_type": "code",
   "execution_count": 63,
   "id": "71b20c72",
   "metadata": {},
   "outputs": [
    {
     "data": {
      "text/plain": [
       "dict_keys(['name', 'HOBBIES', 1])"
      ]
     },
     "execution_count": 63,
     "metadata": {},
     "output_type": "execute_result"
    }
   ],
   "source": [
    "dict_1.keys()"
   ]
  },
  {
   "cell_type": "code",
   "execution_count": 64,
   "id": "f98d6b79",
   "metadata": {},
   "outputs": [
    {
     "data": {
      "text/plain": [
       "dict_values(['arun', ['Painting', 'singing', 'cooking'], 23])"
      ]
     },
     "execution_count": 64,
     "metadata": {},
     "output_type": "execute_result"
    }
   ],
   "source": [
    "dict_1.values()"
   ]
  },
  {
   "cell_type": "code",
   "execution_count": 65,
   "id": "6e0385bb",
   "metadata": {},
   "outputs": [],
   "source": [
    "dict_1['name']=\"neeraj\""
   ]
  },
  {
   "cell_type": "code",
   "execution_count": 66,
   "id": "29661dcb",
   "metadata": {},
   "outputs": [
    {
     "data": {
      "text/plain": [
       "{'name': 'neeraj', 'HOBBIES': ['Painting', 'singing', 'cooking'], 1: 23}"
      ]
     },
     "execution_count": 66,
     "metadata": {},
     "output_type": "execute_result"
    }
   ],
   "source": [
    "dict_1"
   ]
  },
  {
   "cell_type": "code",
   "execution_count": 67,
   "id": "08e430cd",
   "metadata": {},
   "outputs": [],
   "source": [
    "del dict_1['name']"
   ]
  },
  {
   "cell_type": "code",
   "execution_count": 68,
   "id": "37f3eb8f",
   "metadata": {},
   "outputs": [
    {
     "data": {
      "text/plain": [
       "{'HOBBIES': ['Painting', 'singing', 'cooking'], 1: 23}"
      ]
     },
     "execution_count": 68,
     "metadata": {},
     "output_type": "execute_result"
    }
   ],
   "source": [
    "dict_1"
   ]
  },
  {
   "cell_type": "code",
   "execution_count": 80,
   "id": "d207ab88",
   "metadata": {},
   "outputs": [],
   "source": [
    "### Add a new key- value\n",
    "dict.update({\"class\":\"ds\"})"
   ]
  },
  {
   "cell_type": "code",
   "execution_count": 81,
   "id": "e5587050",
   "metadata": {},
   "outputs": [
    {
     "data": {
      "text/plain": [
       "3"
      ]
     },
     "execution_count": 81,
     "metadata": {},
     "output_type": "execute_result"
    }
   ],
   "source": [
    "len(dict)"
   ]
  },
  {
   "cell_type": "code",
   "execution_count": 82,
   "id": "2203133b",
   "metadata": {},
   "outputs": [
    {
     "data": {
      "text/plain": [
       "dict"
      ]
     },
     "execution_count": 82,
     "metadata": {},
     "output_type": "execute_result"
    }
   ],
   "source": [
    "type(dict)"
   ]
  },
  {
   "cell_type": "code",
   "execution_count": 84,
   "id": "538f2b61",
   "metadata": {},
   "outputs": [
    {
     "data": {
      "text/plain": [
       "dict_items([('HOBBIES', ['Painting', 'singing', 'cooking']), (1, 23), ('class', 'ds')])"
      ]
     },
     "execution_count": 84,
     "metadata": {},
     "output_type": "execute_result"
    }
   ],
   "source": [
    "dict.items()"
   ]
  },
  {
   "cell_type": "code",
   "execution_count": 89,
   "id": "c418f14f",
   "metadata": {},
   "outputs": [
    {
     "data": {
      "text/plain": [
       "['Painting', 'singing', 'cooking']"
      ]
     },
     "execution_count": 89,
     "metadata": {},
     "output_type": "execute_result"
    }
   ],
   "source": [
    "dict.get('HOBBIES')"
   ]
  },
  {
   "cell_type": "code",
   "execution_count": 88,
   "id": "9d1f660e",
   "metadata": {},
   "outputs": [
    {
     "data": {
      "text/plain": [
       "'ds'"
      ]
     },
     "execution_count": 88,
     "metadata": {},
     "output_type": "execute_result"
    }
   ],
   "source": [
    "dict.get(\"class\")"
   ]
  },
  {
   "cell_type": "code",
   "execution_count": 92,
   "id": "eba30b5d",
   "metadata": {},
   "outputs": [],
   "source": [
    "### Sets\n",
    "sample_set={1,2,3.8,4,5,1,42,7.2,8,9,\"hi\",\"hellow\",\"ds\"}\n"
   ]
  },
  {
   "cell_type": "code",
   "execution_count": 93,
   "id": "da2fd305",
   "metadata": {},
   "outputs": [
    {
     "data": {
      "text/plain": [
       "{1, 2, 3.8, 4, 42, 5, 7.2, 8, 9, 'ds', 'hellow', 'hi'}"
      ]
     },
     "execution_count": 93,
     "metadata": {},
     "output_type": "execute_result"
    }
   ],
   "source": [
    "sample_set"
   ]
  },
  {
   "cell_type": "code",
   "execution_count": 94,
   "id": "65b2e944",
   "metadata": {},
   "outputs": [],
   "source": [
    "### Sets\n",
    "sample_set={1,2,3.8,4,5,1,42,7.2,8,9,\"hi\",\"hellow\",\"ds\",-1}\n"
   ]
  },
  {
   "cell_type": "code",
   "execution_count": 95,
   "id": "8efea469",
   "metadata": {},
   "outputs": [
    {
     "data": {
      "text/plain": [
       "{-1, 1, 2, 3.8, 4, 42, 5, 7.2, 8, 9, 'ds', 'hellow', 'hi'}"
      ]
     },
     "execution_count": 95,
     "metadata": {},
     "output_type": "execute_result"
    }
   ],
   "source": [
    "sample_set"
   ]
  },
  {
   "cell_type": "code",
   "execution_count": 96,
   "id": "2887cd52",
   "metadata": {},
   "outputs": [],
   "source": [
    "### Sets\n",
    "sample_set={1,2,3.8,4,5,1,42,7.2,8,9,\"hi\",\"hellow\",\"ds\",1.2,5.2,0.23}\n"
   ]
  },
  {
   "cell_type": "code",
   "execution_count": 97,
   "id": "3dc11294",
   "metadata": {},
   "outputs": [
    {
     "data": {
      "text/plain": [
       "{0.23, 1, 1.2, 2, 3.8, 4, 42, 5, 5.2, 7.2, 8, 9, 'ds', 'hellow', 'hi'}"
      ]
     },
     "execution_count": 97,
     "metadata": {},
     "output_type": "execute_result"
    }
   ],
   "source": [
    "sample_set"
   ]
  },
  {
   "cell_type": "code",
   "execution_count": 98,
   "id": "4d8008ef",
   "metadata": {},
   "outputs": [
    {
     "ename": "TypeError",
     "evalue": "'set' object is not subscriptable",
     "output_type": "error",
     "traceback": [
      "\u001b[1;31m---------------------------------------------------------------------------\u001b[0m",
      "\u001b[1;31mTypeError\u001b[0m                                 Traceback (most recent call last)",
      "Cell \u001b[1;32mIn[98], line 1\u001b[0m\n\u001b[1;32m----> 1\u001b[0m \u001b[43msample_set\u001b[49m\u001b[43m[\u001b[49m\u001b[38;5;241;43m0\u001b[39;49m\u001b[43m]\u001b[49m\n",
      "\u001b[1;31mTypeError\u001b[0m: 'set' object is not subscriptable"
     ]
    }
   ],
   "source": [
    "sample_set[0]"
   ]
  },
  {
   "cell_type": "code",
   "execution_count": 99,
   "id": "74370943",
   "metadata": {},
   "outputs": [
    {
     "ename": "TypeError",
     "evalue": "'set' object does not support item assignment",
     "output_type": "error",
     "traceback": [
      "\u001b[1;31m---------------------------------------------------------------------------\u001b[0m",
      "\u001b[1;31mTypeError\u001b[0m                                 Traceback (most recent call last)",
      "Cell \u001b[1;32mIn[99], line 1\u001b[0m\n\u001b[1;32m----> 1\u001b[0m sample_set[\u001b[38;5;241m0\u001b[39m]\u001b[38;5;241m=\u001b[39m\u001b[38;5;241m1\u001b[39m\n",
      "\u001b[1;31mTypeError\u001b[0m: 'set' object does not support item assignment"
     ]
    }
   ],
   "source": [
    "sample_set[0]=1"
   ]
  },
  {
   "cell_type": "code",
   "execution_count": 100,
   "id": "ba796dca",
   "metadata": {},
   "outputs": [],
   "source": [
    "sample_set.add(100)"
   ]
  },
  {
   "cell_type": "code",
   "execution_count": 101,
   "id": "9b48a2cc",
   "metadata": {},
   "outputs": [
    {
     "data": {
      "text/plain": [
       "{0.23, 1, 1.2, 100, 2, 3.8, 4, 42, 5, 5.2, 7.2, 8, 9, 'ds', 'hellow', 'hi'}"
      ]
     },
     "execution_count": 101,
     "metadata": {},
     "output_type": "execute_result"
    }
   ],
   "source": [
    "sample_set"
   ]
  },
  {
   "cell_type": "code",
   "execution_count": 105,
   "id": "223cd381",
   "metadata": {},
   "outputs": [],
   "source": [
    "sample_set.remove(1.2)"
   ]
  },
  {
   "cell_type": "code",
   "execution_count": 106,
   "id": "04e8c679",
   "metadata": {},
   "outputs": [
    {
     "data": {
      "text/plain": [
       "{0.23, 1, 100, 2, 3.8, 4, 42, 5, 5.2, 7.2, 8, 9, 'ds', 'hellow', 'hi'}"
      ]
     },
     "execution_count": 106,
     "metadata": {},
     "output_type": "execute_result"
    }
   ],
   "source": [
    "sample_set"
   ]
  },
  {
   "cell_type": "markdown",
   "id": "3067ad5c",
   "metadata": {},
   "source": [
    "#### Set does not allow duplicate\n",
    "#### We cnnot retrieve the set using index\n",
    "#### Set is mutable\n",
    "#### Set has {}\n",
    "#### Order-Fisrt place"
   ]
  },
  {
   "cell_type": "code",
   "execution_count": 108,
   "id": "3c03017b",
   "metadata": {},
   "outputs": [
    {
     "name": "stdout",
     "output_type": "stream",
     "text": [
      "Addition is: 55\n"
     ]
    }
   ],
   "source": [
    "# Program to find the summation of all natural number till 10\n",
    "num=10\n",
    "\n",
    "# initialize addition and counter\n",
    "addition = 0\n",
    "i = 1\n",
    "\n",
    "while(i <= num):                   # while loop with the terminatio condition\n",
    "    addition = addition + i        \n",
    "    i = i + 1                      #incrementing the counter by 1 everytime the loop is executed\n",
    "    \n",
    "# print the sum\n",
    "print(\"Addition is:\", addition)\n",
    "    \n",
    "    "
   ]
  },
  {
   "cell_type": "code",
   "execution_count": 109,
   "id": "69f304f8",
   "metadata": {},
   "outputs": [
    {
     "name": "stdout",
     "output_type": "stream",
     "text": [
      "Addition is: 66\n"
     ]
    }
   ],
   "source": [
    "number = range(1,12)\n",
    "addition = 0\n",
    "for i in number:\n",
    "    addition = addition + i\n",
    "    \n",
    "    \n",
    "print(\"Addition is:\",addition)"
   ]
  },
  {
   "cell_type": "code",
   "execution_count": 114,
   "id": "6452a7b5",
   "metadata": {},
   "outputs": [
    {
     "name": "stdout",
     "output_type": "stream",
     "text": [
      "e\n",
      "x\n",
      "c\n",
      "The for loop stopped executing\n"
     ]
    }
   ],
   "source": [
    "text = \"exchanges\"\n",
    "for letter in text:\n",
    "    if letter == 'h':\n",
    "        break\n",
    "    print(letter)\n",
    "print(\"The for loop stopped executing\")"
   ]
  },
  {
   "cell_type": "code",
   "execution_count": 138,
   "id": "f7adc012",
   "metadata": {},
   "outputs": [
    {
     "name": "stdout",
     "output_type": "stream",
     "text": [
      "1 \n",
      "\n",
      "2 2 \n",
      "\n",
      "3 3 3 \n",
      "\n",
      "4 4 4 4 \n",
      "\n",
      "5 5 5 5 5 \n",
      "\n",
      "6 6 6 6 6 6 \n",
      "\n",
      "7 7 7 7 7 7 7 \n",
      "\n",
      "8 8 8 8 8 8 8 8 \n",
      "\n",
      "9 9 9 9 9 9 9 9 9 \n",
      "\n",
      "10 10 10 10 10 10 10 10 10 10 \n",
      "\n",
      "11 11 11 11 11 11 11 11 11 11 11 \n",
      "\n"
     ]
    }
   ],
   "source": [
    "  for i in range(1,12):\n",
    "        for num in range (i):\n",
    "               print(i, end=\" \")\n",
    "        print(\"\\n\")\n",
    "    "
   ]
  },
  {
   "cell_type": "code",
   "execution_count": null,
   "id": "ae5d2531",
   "metadata": {},
   "outputs": [],
   "source": []
  }
 ],
 "metadata": {
  "kernelspec": {
   "display_name": "Python 3 (ipykernel)",
   "language": "python",
   "name": "python3"
  },
  "language_info": {
   "codemirror_mode": {
    "name": "ipython",
    "version": 3
   },
   "file_extension": ".py",
   "mimetype": "text/x-python",
   "name": "python",
   "nbconvert_exporter": "python",
   "pygments_lexer": "ipython3",
   "version": "3.10.9"
  }
 },
 "nbformat": 4,
 "nbformat_minor": 5
}
