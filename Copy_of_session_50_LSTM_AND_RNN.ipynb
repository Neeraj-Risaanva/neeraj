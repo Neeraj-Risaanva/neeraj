{
  "nbformat": 4,
  "nbformat_minor": 0,
  "metadata": {
    "colab": {
      "provenance": [],
      "authorship_tag": "ABX9TyNRgZnpNELELn3T+BTMZ9u9",
      "include_colab_link": true
    },
    "kernelspec": {
      "name": "python3",
      "display_name": "Python 3"
    },
    "language_info": {
      "name": "python"
    }
  },
  "cells": [
    {
      "cell_type": "markdown",
      "metadata": {
        "id": "view-in-github",
        "colab_type": "text"
      },
      "source": [
        "<a href=\"https://colab.research.google.com/github/Neeraj7015187103/Neeraj7015187103/blob/main/Copy_of_session_50_LSTM_AND_RNN.ipynb\" target=\"_parent\"><img src=\"https://colab.research.google.com/assets/colab-badge.svg\" alt=\"Open In Colab\"/></a>"
      ]
    },
    {
      "cell_type": "code",
      "execution_count": null,
      "metadata": {
        "id": "xkPjkEmM3b9D"
      },
      "outputs": [],
      "source": [
        "Autoencoders: Autoencoders are a type of neural network used for unsupervised learning and dimensionality reduction.\n",
        "They consist of an encoder and a decoder, which work together to learn a compressed representation of input data."
      ]
    },
    {
      "cell_type": "code",
      "source": [
        "import numpy as np\n",
        "import pandas as pd\n",
        "import matplotlib.pyplot as plt\n",
        "from keras.layers import Input, Dense\n",
        "from keras.models import Model\n",
        "from keras.datasets import mnist"
      ],
      "metadata": {
        "id": "thPaMFR83rAs"
      },
      "execution_count": null,
      "outputs": []
    },
    {
      "cell_type": "code",
      "source": [
        "# Load the MNIST dataset\n",
        "(x_train, _), (x_test, _) = mnist.load_data()"
      ],
      "metadata": {
        "colab": {
          "base_uri": "https://localhost:8080/"
        },
        "id": "n9GTRkhV4wJv",
        "outputId": "b5bb989f-8f8b-4d9d-c5a7-371ed11a45af"
      },
      "execution_count": null,
      "outputs": [
        {
          "output_type": "stream",
          "name": "stdout",
          "text": [
            "Downloading data from https://storage.googleapis.com/tensorflow/tf-keras-datasets/mnist.npz\n",
            "11490434/11490434 [==============================] - 0s 0us/step\n"
          ]
        }
      ]
    },
    {
      "cell_type": "code",
      "source": [
        "x_train = x_train.astype('float32') / 255.0\n",
        "x_test = x_test.astype('float32') / 255.0"
      ],
      "metadata": {
        "id": "EhU1vtk2xBb7"
      },
      "execution_count": null,
      "outputs": []
    },
    {
      "cell_type": "code",
      "source": [
        "x_train[:6,:6]"
      ],
      "metadata": {
        "colab": {
          "base_uri": "https://localhost:8080/"
        },
        "id": "Vd7JbvGf5D_P",
        "outputId": "91b0d794-481c-4e09-bbe2-ed849cb89459"
      },
      "execution_count": null,
      "outputs": [
        {
          "output_type": "execute_result",
          "data": {
            "text/plain": [
              "array([[[0., 0., 0., ..., 0., 0., 0.],\n",
              "        [0., 0., 0., ..., 0., 0., 0.],\n",
              "        [0., 0., 0., ..., 0., 0., 0.],\n",
              "        [0., 0., 0., ..., 0., 0., 0.],\n",
              "        [0., 0., 0., ..., 0., 0., 0.],\n",
              "        [0., 0., 0., ..., 0., 0., 0.]],\n",
              "\n",
              "       [[0., 0., 0., ..., 0., 0., 0.],\n",
              "        [0., 0., 0., ..., 0., 0., 0.],\n",
              "        [0., 0., 0., ..., 0., 0., 0.],\n",
              "        [0., 0., 0., ..., 0., 0., 0.],\n",
              "        [0., 0., 0., ..., 0., 0., 0.],\n",
              "        [0., 0., 0., ..., 0., 0., 0.]],\n",
              "\n",
              "       [[0., 0., 0., ..., 0., 0., 0.],\n",
              "        [0., 0., 0., ..., 0., 0., 0.],\n",
              "        [0., 0., 0., ..., 0., 0., 0.],\n",
              "        [0., 0., 0., ..., 0., 0., 0.],\n",
              "        [0., 0., 0., ..., 0., 0., 0.],\n",
              "        [0., 0., 0., ..., 0., 0., 0.]],\n",
              "\n",
              "       [[0., 0., 0., ..., 0., 0., 0.],\n",
              "        [0., 0., 0., ..., 0., 0., 0.],\n",
              "        [0., 0., 0., ..., 0., 0., 0.],\n",
              "        [0., 0., 0., ..., 0., 0., 0.],\n",
              "        [0., 0., 0., ..., 0., 0., 0.],\n",
              "        [0., 0., 0., ..., 0., 0., 0.]],\n",
              "\n",
              "       [[0., 0., 0., ..., 0., 0., 0.],\n",
              "        [0., 0., 0., ..., 0., 0., 0.],\n",
              "        [0., 0., 0., ..., 0., 0., 0.],\n",
              "        [0., 0., 0., ..., 0., 0., 0.],\n",
              "        [0., 0., 0., ..., 0., 0., 0.],\n",
              "        [0., 0., 0., ..., 0., 0., 0.]],\n",
              "\n",
              "       [[0., 0., 0., ..., 0., 0., 0.],\n",
              "        [0., 0., 0., ..., 0., 0., 0.],\n",
              "        [0., 0., 0., ..., 0., 0., 0.],\n",
              "        [0., 0., 0., ..., 0., 0., 0.],\n",
              "        [0., 0., 0., ..., 0., 0., 0.],\n",
              "        [0., 0., 0., ..., 0., 0., 0.]]], dtype=float32)"
            ]
          },
          "metadata": {},
          "execution_count": 7
        }
      ]
    },
    {
      "cell_type": "code",
      "source": [
        "X_train = x_train.astype('float')"
      ],
      "metadata": {
        "id": "-xDAHEnz5M_-"
      },
      "execution_count": null,
      "outputs": []
    },
    {
      "cell_type": "code",
      "source": [
        "x_train.shape"
      ],
      "metadata": {
        "colab": {
          "base_uri": "https://localhost:8080/"
        },
        "id": "n1OqsuE_6MaW",
        "outputId": "d2960b6d-a9a6-4385-b078-d524eaa89d2f"
      },
      "execution_count": null,
      "outputs": [
        {
          "output_type": "execute_result",
          "data": {
            "text/plain": [
              "(60000, 28, 28)"
            ]
          },
          "metadata": {},
          "execution_count": 9
        }
      ]
    },
    {
      "cell_type": "code",
      "source": [
        "x_test.shape"
      ],
      "metadata": {
        "colab": {
          "base_uri": "https://localhost:8080/"
        },
        "id": "67Sjfna16oAO",
        "outputId": "02ebcc08-7264-43e7-fde5-9cd40a558b78"
      },
      "execution_count": null,
      "outputs": [
        {
          "output_type": "execute_result",
          "data": {
            "text/plain": [
              "(10000, 28, 28)"
            ]
          },
          "metadata": {},
          "execution_count": 10
        }
      ]
    },
    {
      "cell_type": "code",
      "source": [
        "len(x_train)"
      ],
      "metadata": {
        "colab": {
          "base_uri": "https://localhost:8080/"
        },
        "id": "JcGU01PJ6Kw8",
        "outputId": "a109a2d3-d4b8-486e-a273-471578709560"
      },
      "execution_count": null,
      "outputs": [
        {
          "output_type": "execute_result",
          "data": {
            "text/plain": [
              "60000"
            ]
          },
          "metadata": {},
          "execution_count": 11
        }
      ]
    },
    {
      "cell_type": "code",
      "source": [
        "len(x_test)"
      ],
      "metadata": {
        "colab": {
          "base_uri": "https://localhost:8080/"
        },
        "id": "wNf4w0gnzCnn",
        "outputId": "07c5c05c-d743-49a0-fba6-2463498a79eb"
      },
      "execution_count": null,
      "outputs": [
        {
          "output_type": "execute_result",
          "data": {
            "text/plain": [
              "10000"
            ]
          },
          "metadata": {},
          "execution_count": 12
        }
      ]
    },
    {
      "cell_type": "code",
      "source": [
        "np.prod(x_train.shape[1:])"
      ],
      "metadata": {
        "colab": {
          "base_uri": "https://localhost:8080/"
        },
        "id": "SiswlqFT6kaI",
        "outputId": "424b7a93-829e-4a45-efad-6315c3e6cc92"
      },
      "execution_count": null,
      "outputs": [
        {
          "output_type": "execute_result",
          "data": {
            "text/plain": [
              "784"
            ]
          },
          "metadata": {},
          "execution_count": 13
        }
      ]
    },
    {
      "cell_type": "code",
      "source": [
        "# Flatten the images\n",
        "x_train = x_train.reshape((len(x_train), np.prod(x_train.shape[1:])))\n",
        "x_test = x_test.reshape((len(x_test), np.prod(x_test.shape[1:])))"
      ],
      "metadata": {
        "id": "awkp2xnb6zr4"
      },
      "execution_count": null,
      "outputs": []
    },
    {
      "cell_type": "code",
      "source": [
        "# Define the autoencoder architecture\n",
        "input_img = Input(shape=(784,))\n",
        "encoded = Dense(128, activation='relu')(input_img)\n",
        "decoded = Dense(784, activation='sigmoid')(encoded)\n",
        "autoencoder = Model(input_img, decoded)\n",
        "autoencoder.compile(optimizer='adam', loss='binary_crossentropy')"
      ],
      "metadata": {
        "id": "3LWX2VRv8FQm"
      },
      "execution_count": null,
      "outputs": []
    },
    {
      "cell_type": "code",
      "source": [
        "#  Trian the autoencoder\n",
        "autoencoder.fit(x_train, x_train, epochs=50, batch_size=256, shuffle=True, validation_data=(x_test, x_test))\n",
        "\n",
        "# Encode and decode some images from the test set\n",
        "encoded_imgs = autoencoder.predict(x_test)\n",
        "decoded_imgs = encoded_imgs"
      ],
      "metadata": {
        "colab": {
          "base_uri": "https://localhost:8080/"
        },
        "id": "JVOzrH2c-Tue",
        "outputId": "7084bc0b-723f-4fb0-dab7-66c0365b59db"
      },
      "execution_count": null,
      "outputs": [
        {
          "output_type": "stream",
          "name": "stdout",
          "text": [
            "Epoch 1/50\n",
            "235/235 [==============================] - 6s 24ms/step - loss: 0.2146 - val_loss: 0.1356\n",
            "Epoch 2/50\n",
            "235/235 [==============================] - 4s 15ms/step - loss: 0.1190 - val_loss: 0.1037\n",
            "Epoch 3/50\n",
            "235/235 [==============================] - 5s 20ms/step - loss: 0.0968 - val_loss: 0.0886\n",
            "Epoch 4/50\n",
            "235/235 [==============================] - 5s 22ms/step - loss: 0.0854 - val_loss: 0.0809\n",
            "Epoch 5/50\n",
            "235/235 [==============================] - 4s 16ms/step - loss: 0.0794 - val_loss: 0.0767\n",
            "Epoch 6/50\n",
            "235/235 [==============================] - 4s 18ms/step - loss: 0.0760 - val_loss: 0.0742\n",
            "Epoch 7/50\n",
            "235/235 [==============================] - 6s 23ms/step - loss: 0.0737 - val_loss: 0.0723\n",
            "Epoch 8/50\n",
            "235/235 [==============================] - 4s 19ms/step - loss: 0.0721 - val_loss: 0.0710\n",
            "Epoch 9/50\n",
            "235/235 [==============================] - 4s 16ms/step - loss: 0.0710 - val_loss: 0.0700\n",
            "Epoch 10/50\n",
            "235/235 [==============================] - 4s 17ms/step - loss: 0.0701 - val_loss: 0.0693\n",
            "Epoch 11/50\n",
            "235/235 [==============================] - 5s 22ms/step - loss: 0.0695 - val_loss: 0.0688\n",
            "Epoch 12/50\n",
            "235/235 [==============================] - 4s 15ms/step - loss: 0.0689 - val_loss: 0.0683\n",
            "Epoch 13/50\n",
            "235/235 [==============================] - 4s 17ms/step - loss: 0.0685 - val_loss: 0.0679\n",
            "Epoch 14/50\n",
            "235/235 [==============================] - 6s 24ms/step - loss: 0.0681 - val_loss: 0.0676\n",
            "Epoch 15/50\n",
            "235/235 [==============================] - 4s 17ms/step - loss: 0.0678 - val_loss: 0.0674\n",
            "Epoch 16/50\n",
            "235/235 [==============================] - 4s 16ms/step - loss: 0.0676 - val_loss: 0.0671\n",
            "Epoch 17/50\n",
            "235/235 [==============================] - 4s 19ms/step - loss: 0.0674 - val_loss: 0.0669\n",
            "Epoch 18/50\n",
            "235/235 [==============================] - 5s 20ms/step - loss: 0.0672 - val_loss: 0.0667\n",
            "Epoch 19/50\n",
            "235/235 [==============================] - 4s 16ms/step - loss: 0.0670 - val_loss: 0.0666\n",
            "Epoch 20/50\n",
            "235/235 [==============================] - 4s 17ms/step - loss: 0.0669 - val_loss: 0.0665\n",
            "Epoch 21/50\n",
            "235/235 [==============================] - 6s 24ms/step - loss: 0.0667 - val_loss: 0.0664\n",
            "Epoch 22/50\n",
            "235/235 [==============================] - 4s 16ms/step - loss: 0.0666 - val_loss: 0.0663\n",
            "Epoch 23/50\n",
            "235/235 [==============================] - 4s 16ms/step - loss: 0.0665 - val_loss: 0.0663\n",
            "Epoch 24/50\n",
            "235/235 [==============================] - 5s 20ms/step - loss: 0.0664 - val_loss: 0.0661\n",
            "Epoch 25/50\n",
            "235/235 [==============================] - 5s 19ms/step - loss: 0.0663 - val_loss: 0.0661\n",
            "Epoch 26/50\n",
            "235/235 [==============================] - 4s 16ms/step - loss: 0.0663 - val_loss: 0.0661\n",
            "Epoch 27/50\n",
            "235/235 [==============================] - 4s 16ms/step - loss: 0.0662 - val_loss: 0.0660\n",
            "Epoch 28/50\n",
            "235/235 [==============================] - 6s 25ms/step - loss: 0.0661 - val_loss: 0.0659\n",
            "Epoch 29/50\n",
            "235/235 [==============================] - 4s 15ms/step - loss: 0.0661 - val_loss: 0.0659\n",
            "Epoch 30/50\n",
            "235/235 [==============================] - 3s 15ms/step - loss: 0.0660 - val_loss: 0.0658\n",
            "Epoch 31/50\n",
            "235/235 [==============================] - 4s 19ms/step - loss: 0.0660 - val_loss: 0.0658\n",
            "Epoch 32/50\n",
            "235/235 [==============================] - 5s 21ms/step - loss: 0.0660 - val_loss: 0.0658\n",
            "Epoch 33/50\n",
            "235/235 [==============================] - 4s 16ms/step - loss: 0.0659 - val_loss: 0.0657\n",
            "Epoch 34/50\n",
            "235/235 [==============================] - 4s 16ms/step - loss: 0.0659 - val_loss: 0.0657\n",
            "Epoch 35/50\n",
            "235/235 [==============================] - 7s 28ms/step - loss: 0.0659 - val_loss: 0.0657\n",
            "Epoch 36/50\n",
            "235/235 [==============================] - 5s 21ms/step - loss: 0.0658 - val_loss: 0.0656\n",
            "Epoch 37/50\n",
            "235/235 [==============================] - 4s 16ms/step - loss: 0.0658 - val_loss: 0.0657\n",
            "Epoch 38/50\n",
            "235/235 [==============================] - 4s 18ms/step - loss: 0.0658 - val_loss: 0.0657\n",
            "Epoch 39/50\n",
            "235/235 [==============================] - 5s 21ms/step - loss: 0.0658 - val_loss: 0.0656\n",
            "Epoch 40/50\n",
            "235/235 [==============================] - 4s 16ms/step - loss: 0.0658 - val_loss: 0.0656\n",
            "Epoch 41/50\n",
            "235/235 [==============================] - 4s 16ms/step - loss: 0.0657 - val_loss: 0.0656\n",
            "Epoch 42/50\n",
            "235/235 [==============================] - 5s 22ms/step - loss: 0.0657 - val_loss: 0.0656\n",
            "Epoch 43/50\n",
            "235/235 [==============================] - 4s 16ms/step - loss: 0.0657 - val_loss: 0.0655\n",
            "Epoch 44/50\n",
            "235/235 [==============================] - 3s 15ms/step - loss: 0.0657 - val_loss: 0.0655\n",
            "Epoch 45/50\n",
            "235/235 [==============================] - 4s 18ms/step - loss: 0.0657 - val_loss: 0.0655\n",
            "Epoch 46/50\n",
            "235/235 [==============================] - 5s 23ms/step - loss: 0.0657 - val_loss: 0.0655\n",
            "Epoch 47/50\n",
            "235/235 [==============================] - 4s 16ms/step - loss: 0.0656 - val_loss: 0.0655\n",
            "Epoch 48/50\n",
            "235/235 [==============================] - 4s 16ms/step - loss: 0.0656 - val_loss: 0.0655\n",
            "Epoch 49/50\n",
            "235/235 [==============================] - 6s 26ms/step - loss: 0.0656 - val_loss: 0.0655\n",
            "Epoch 50/50\n",
            "235/235 [==============================] - 4s 17ms/step - loss: 0.0656 - val_loss: 0.0655\n",
            "313/313 [==============================] - 1s 3ms/step\n"
          ]
        }
      ]
    },
    {
      "cell_type": "code",
      "source": [
        "# Visualize the reconstructed images\n",
        "n=10\n",
        "plt.figure(figsize=(15,5))\n",
        "for i in range(n):\n",
        "    # Original Images\n",
        "    ax = plt.subplot(2, n, i + 1)\n",
        "    plt.imshow(x_test[i].reshape(28,28))\n",
        "    plt.gray()\n",
        "    ax.get_xaxis().set_visible(False)\n",
        "    ax.get_yaxis().set_visible(False)\n",
        "\n",
        "    # Reconstucted Images\n",
        "    ax = plt.subplot(2, n, i + 1 + n)\n",
        "    plt.imshow(decoded_imgs[i].reshape(28,28))\n",
        "    plt.gray()\n",
        "    ax.get_xaxis().set_visible(False)\n",
        "    ax.get_yaxis().set_visible(False)\n",
        "plt.show()"
      ],
      "metadata": {
        "colab": {
          "base_uri": "https://localhost:8080/",
          "height": 345
        },
        "id": "zZf_Oaox0qIX",
        "outputId": "07c8d922-35db-4185-a74d-1f083997081c"
      },
      "execution_count": null,
      "outputs": [
        {
          "output_type": "display_data",
          "data": {
            "text/plain": [
              "<Figure size 1500x500 with 20 Axes>"
            ],
            "image/png": "[encoded data removed]"
          },
          "metadata": {}
        }
      ]
    },
    {
      "cell_type": "code",
      "source": [],
      "metadata": {
        "id": "WYBNykJv3qRz"
      },
      "execution_count": null,
      "outputs": []
    }
  ]
}